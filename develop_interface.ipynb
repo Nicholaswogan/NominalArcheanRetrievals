{
 "cells": [
  {
   "cell_type": "code",
   "execution_count": 47,
   "id": "743883d1",
   "metadata": {},
   "outputs": [],
   "source": [
    "import numpy as np\n",
    "import subprocess as sub\n",
    "import os\n",
    "import time\n"
   ]
  },
  {
   "cell_type": "code",
   "execution_count": 67,
   "id": "b224f586",
   "metadata": {},
   "outputs": [],
   "source": [
    "def bandpass_extents(B, lam_c):\n",
    "    Dlam = B*lam_c/(1+B*0.5)\n",
    "    lam_min = lam_c - 0.5*Dlam\n",
    "    lam_max = lam_c + 0.5*Dlam\n",
    "    return lam_min, lam_max, Dlam\n",
    "\n",
    "def make_filenames(root_outdir, prefix, B, res, snr):\n",
    "    fns_name = \\\n",
    "    prefix+\"_\"+('B=%.4f'%B)+\"_\"+('res=%.4f'%res)+\"_\"+('snr=%.4f'%snr)\n",
    "    fnn_name = fns_name+'_n'\n",
    "    fnr_name = fns_name+'_r'\n",
    "    \n",
    "    out = {}\n",
    "    out['output_folder'] = root_outdir+'/'+fns_name\n",
    "    # set the filenames\n",
    "    out['fns'] = out['output_folder']+'/'+fns_name\n",
    "    out['fnn'] = out['output_folder']+'/'+fnn_name\n",
    "    out['fnr'] = out['output_folder']+'/'+fnr_name\n",
    "    \n",
    "    out['rfast_inputs'] = out['output_folder']+'/'+fns_name+'_inputs.scr'\n",
    "    out['rfast_rpars'] = out['output_folder']+'/'+fns_name+'_rpars.txt'\n",
    "    return out\n",
    "\n",
    "def add_extensions_to_files(fns, fnn, fnr):\n",
    "    fns_raw = fns + '.raw'\n",
    "    fnn_dat = fnn + '.dat'\n",
    "    fnr_h5 = fnr + '.h5'\n",
    "    return fns_raw, fnn_dat, fnr_h5\n",
    "\n",
    "\n",
    "def make_dirs_and_files(B, res, snr, root_outdir, prefix):\n",
    "    # variables to set\n",
    "    # fns\n",
    "    # fnn\n",
    "    # fnr\n",
    "    # lams\n",
    "    # laml\n",
    "    # res\n",
    "    # snr0\n",
    "\n",
    "    # read template inputs file\n",
    "    with open(TEMPLATE_INPUTS,'r') as f:\n",
    "        lines = f.readlines()\n",
    "\n",
    "    out_files = make_filenames(root_outdir, prefix, B, res, snr)\n",
    "    lam_min, lam_max, Dlam = bandpass_extents(B, LAM_C)\n",
    "\n",
    "    new_lines = []\n",
    "    for line in lines:\n",
    "        tmp = line\n",
    "        v = line.strip().split()[0]\n",
    "        if v == 'fns':\n",
    "            tmp = \"fns       = \"+out_files['fns']+'\\n'\n",
    "        if v == 'fnn':\n",
    "            tmp = \"fnn       = \"+out_files['fnn']+'\\n'\n",
    "        if v == 'fnr':\n",
    "            tmp = \"fnr       = \"+out_files['fnr']+'\\n'\n",
    "        if v == 'lams':\n",
    "            tmp = \"lams      = \"+LAMS_PREFIX+\"%.4f\"%lam_min+'\\n'\n",
    "        if v == 'laml':\n",
    "            tmp = \"laml      = \"+LAML_PREFIX+\"%.4f\"%lam_min+\",\"\"%.4f\"%lam_max+'\\n'\n",
    "        if v == 'res':\n",
    "            tmp = \"res       = \"+RES_PREFIX+\"%i\"%res+'\\n'\n",
    "        if v == 'snr0':\n",
    "            tmp = \"snr0      = \"+SNR0_PREFIX+\"%i\"%snr+'\\n'\n",
    "        new_lines.append(tmp)\n",
    "\n",
    "    # make the directories and files\n",
    "    if not os.path.isdir(root_outdir):\n",
    "        raise Exception('\"'+root_outdir+'\" does not exist.')\n",
    "\n",
    "    # if output directory does not exist\n",
    "    # then we create it\n",
    "    if os.path.isdir(out_files['output_folder']):\n",
    "        raise Exception('\"'+out_files['output_folder']+'\" already exists!')\n",
    "    else:\n",
    "        os.mkdir(out_files['output_folder'])\n",
    "\n",
    "    # write the input file\n",
    "    with open(out_files['rfast_inputs'],'w') as f:\n",
    "        for line in new_lines:\n",
    "            f.write(line)\n",
    "\n",
    "    # write the rpars file\n",
    "    with open(TEMPLATE_RPARS,'r') as f:\n",
    "        lines = f.readlines()\n",
    "    with open(out_files['rfast_rpars'],'w') as f:\n",
    "        for line in lines:\n",
    "            f.write(line)\n",
    "            \n",
    "    return out_files\n",
    "\n",
    "def monitor_processes(all_process):\n",
    "    start = time.time()\n",
    "    total = len(all_process)\n",
    "    while True:\n",
    "        number_completed = 0\n",
    "        for process in all_process:\n",
    "            res = process.poll()\n",
    "            if res != None:\n",
    "                number_completed += 1\n",
    "\n",
    "        fmt = \"{:50}\"\n",
    "\n",
    "        print(fmt.format(\"completed/total = \"+str(number_completed)+'/'+str(total)),end='\\r')\n",
    "        if number_completed == total:\n",
    "            break\n",
    "        else:\n",
    "            time.sleep(REFRESH_TIME)\n",
    "            \n",
    "        finish = time.time()\n",
    "        runtime = finish-start\n",
    "        # we time out after a bit.\n",
    "        if runtime > TIMEOUT:\n",
    "            print(\"TIMEOUT reached. Killing all processes.\")\n",
    "            for process in all_process:\n",
    "                process.kill()\n",
    "            \n",
    "def spawn_retrieval(files):\n",
    "    # run genspec\n",
    "    cmd = \"python rfast_genspec.py \"+files['rfast_inputs']\n",
    "    res = sub.run(cmd.split(),check=True,cwd=RFAST_ROOT)\n",
    "\n",
    "    # run noise\n",
    "    cmd = \"python rfast_noise.py \"+files['rfast_inputs']\n",
    "    res = sub.run(cmd.split(),check=True,cwd=RFAST_ROOT)\n",
    "\n",
    "    # initialize retreival\n",
    "    cmd = \"python rfast_initret.py \"+files['rfast_inputs']+' '+files['rfast_rpars']\n",
    "    res = sub.run(cmd.split(),check=True,cwd=RFAST_ROOT)\n",
    "    \n",
    "    cmd = \"python rfast_retrieve.py \"+files['rfast_inputs']\n",
    "    process = sub.Popen(cmd.split(),cwd=RFAST_ROOT)\n",
    "    # just wait for 1 second!\n",
    "    time.sleep(1)\n",
    "    \n",
    "    return process\n",
    "\n",
    "def spawn_rfast_retreivals(B, res, snr, root_outdir, prefix):\n",
    "    all_process = []\n",
    "    for i in range(len(B)):\n",
    "        files = make_dirs_and_files(B[i], res[i], snr[i], root_outdir, prefix)\n",
    "        process = spawn_retrieval(files)\n",
    "        all_process.append(process) \n",
    "    monitor_processes(all_process)"
   ]
  },
  {
   "cell_type": "code",
   "execution_count": null,
   "id": "600210ec",
   "metadata": {},
   "outputs": [],
   "source": []
  },
  {
   "cell_type": "code",
   "execution_count": null,
   "id": "1cc2dcba",
   "metadata": {},
   "outputs": [],
   "source": []
  },
  {
   "cell_type": "code",
   "execution_count": 35,
   "id": "63160567",
   "metadata": {},
   "outputs": [],
   "source": [
    "# constants\n",
    "LAM_C = 0.95 # center\n",
    "TEMPLATE_FOLDER = \"/Users/nicholas/Documents/Research_local/NASA/NominalArchean/NA_rfast/\"\n",
    "TEMPLATE_INPUTS = TEMPLATE_FOLDER+\"NA_inputs_template.scr\"\n",
    "TEMPLATE_RPARS = TEMPLATE_FOLDER+\"NA_rpars.txt\"\n",
    "RFAST_ROOT = \"/Users/nicholas/Documents/Research_local/NASA/NominalArchean/rfast\"\n",
    "LAMS_PREFIX = \"0.5,0.6,\"\n",
    "LAML_PREFIX = \"0.6,\"\n",
    "RES_PREFIX = \"0,0,\"\n",
    "SNR0_PREFIX = \"7,0.01,\"\n",
    "REFRESH_TIME = 5 # seconds\n",
    "TIMEOUT = 60*60*24 # 1 day\n",
    "\n",
    "# these are the inputs\n",
    "root_outdir = \"/Users/nicholas/Documents/Research_local/NASA/NominalArchean\"\n",
    "prefix = \"MA\"\n",
    "B = 0.2\n",
    "res = 70\n",
    "snr = 10"
   ]
  },
  {
   "cell_type": "code",
   "execution_count": null,
   "id": "86ea92c9",
   "metadata": {},
   "outputs": [],
   "source": []
  },
  {
   "cell_type": "code",
   "execution_count": 74,
   "id": "da6bfed7",
   "metadata": {},
   "outputs": [],
   "source": []
  },
  {
   "cell_type": "code",
   "execution_count": 79,
   "id": "f1fd44b2",
   "metadata": {},
   "outputs": [],
   "source": [
    "\n",
    "\n",
    "def make_input_lists(B_1, res_1, snr_1):\n",
    "    B = []\n",
    "    res = []\n",
    "    snr = []\n",
    "    for b in B_1:\n",
    "        for r in res_1:\n",
    "            for s in snr_1:\n",
    "                B.append(b)\n",
    "                res.append(r)\n",
    "                snr.append(s)\n",
    "    return B,res,snr"
   ]
  },
  {
   "cell_type": "code",
   "execution_count": 90,
   "id": "8c02f95c",
   "metadata": {},
   "outputs": [],
   "source": [
    "B_1 = [0.15, 0.2]\n",
    "res_1 = [70, 140]\n",
    "snr_1 = [5, 10, 15, 20] \n",
    "B,res,snr = make_input_lists(B_1, res_1, snr_1)\n"
   ]
  },
  {
   "cell_type": "code",
   "execution_count": 92,
   "id": "32b24e94",
   "metadata": {},
   "outputs": [
    {
     "data": {
      "text/plain": [
       "[0.15, 0.2]"
      ]
     },
     "execution_count": 92,
     "metadata": {},
     "output_type": "execute_result"
    }
   ],
   "source": [
    "B_1"
   ]
  },
  {
   "cell_type": "code",
   "execution_count": null,
   "id": "75dd481a",
   "metadata": {},
   "outputs": [],
   "source": []
  },
  {
   "cell_type": "code",
   "execution_count": null,
   "id": "21b430f4",
   "metadata": {},
   "outputs": [],
   "source": []
  },
  {
   "cell_type": "code",
   "execution_count": 93,
   "id": "b07960ec",
   "metadata": {},
   "outputs": [
    {
     "data": {
      "text/plain": [
       "28800"
      ]
     },
     "execution_count": 93,
     "metadata": {},
     "output_type": "execute_result"
    }
   ],
   "source": [
    "total_time = 60*60*2\n",
    "total_time*4"
   ]
  },
  {
   "cell_type": "code",
   "execution_count": 97,
   "id": "7ffabd99",
   "metadata": {},
   "outputs": [
    {
     "data": {
      "text/plain": [
       "9.52"
      ]
     },
     "execution_count": 97,
     "metadata": {},
     "output_type": "execute_result"
    }
   ],
   "source": [
    "mb_pr_iter = 35/1000\n",
    "mb_pr_iter*17000*16/1000"
   ]
  },
  {
   "cell_type": "code",
   "execution_count": null,
   "id": "4425bd49",
   "metadata": {},
   "outputs": [],
   "source": []
  }
 ],
 "metadata": {
  "kernelspec": {
   "display_name": "Python 3 (ipykernel)",
   "language": "python",
   "name": "python3"
  },
  "language_info": {
   "codemirror_mode": {
    "name": "ipython",
    "version": 3
   },
   "file_extension": ".py",
   "mimetype": "text/x-python",
   "name": "python",
   "nbconvert_exporter": "python",
   "pygments_lexer": "ipython3",
   "version": "3.8.11"
  }
 },
 "nbformat": 4,
 "nbformat_minor": 5
}
